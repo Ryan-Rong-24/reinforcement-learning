{
 "cells": [
  {
   "cell_type": "markdown",
   "id": "63338503",
   "metadata": {},
   "source": [
    "# 1. Setup VizDoom"
   ]
  },
  {
   "cell_type": "code",
   "execution_count": 1,
   "id": "06ae1b81",
   "metadata": {},
   "outputs": [
    {
     "name": "stdout",
     "output_type": "stream",
     "text": [
      "Collecting vizdoom\n",
      "  Downloading vizdoom-1.1.13-cp310-cp310-win_amd64.whl (15.4 MB)\n",
      "     --------------------------------------- 15.4/15.4 MB 16.1 kB/s eta 0:00:00\n",
      "Requirement already satisfied: numpy in c:\\users\\ryanr\\appdata\\local\\programs\\python\\python310\\lib\\site-packages (from vizdoom) (1.22.3)\n",
      "Installing collected packages: vizdoom\n",
      "Successfully installed vizdoom-1.1.13\n",
      "\n",
      "[notice] A new release of pip available: 22.1.2 -> 22.2\n",
      "[notice] To update, run: python.exe -m pip install --upgrade pip\n"
     ]
    }
   ],
   "source": [
    "!pip install vizdoom"
   ]
  },
  {
   "cell_type": "code",
   "execution_count": null,
   "id": "8cee13f7",
   "metadata": {},
   "outputs": [],
   "source": [
    "!cd github & git clone https://github.com/mwydmuch/ViZDoom"
   ]
  },
  {
   "cell_type": "code",
   "execution_count": 6,
   "id": "ecd96f3f",
   "metadata": {},
   "outputs": [],
   "source": [
    "from vizdoom import *\n",
    "import random\n",
    "import time\n",
    "import numpy as np\n",
    "import matplotlib.pyplot as plt"
   ]
  },
  {
   "cell_type": "code",
   "execution_count": 2,
   "id": "5f5a8e69",
   "metadata": {},
   "outputs": [],
   "source": [
    "# Setup game\n",
    "game = DoomGame() # from vizdoom\n",
    "game.load_config('github/VizDoom/scenarios/deadly_corridor.cfg')\n",
    "game.init()"
   ]
  },
  {
   "cell_type": "code",
   "execution_count": 7,
   "id": "d204d779",
   "metadata": {},
   "outputs": [],
   "source": [
    "# Set of actions we can take in the environment\n",
    "actions = np.identity(7,dtype=np.uint8) # move left, move right, attack"
   ]
  },
  {
   "cell_type": "code",
   "execution_count": 5,
   "id": "bcb050d8",
   "metadata": {},
   "outputs": [
    {
     "data": {
      "text/plain": [
       "array([1, 0, 0], dtype=uint8)"
      ]
     },
     "execution_count": 5,
     "metadata": {},
     "output_type": "execute_result"
    }
   ],
   "source": [
    "random.choice(actions)"
   ]
  },
  {
   "cell_type": "code",
   "execution_count": null,
   "id": "d94480ed",
   "metadata": {},
   "outputs": [],
   "source": [
    "episodes = 10\n",
    "for episode in range(episodes):\n",
    "    game.new_episode()\n",
    "    while not game.is_episode_finished():\n",
    "        state = game.get_state()\n",
    "        img = state.screen_buffer\n",
    "        info = state.game_variables # ammo\n",
    "        reward = game.make_action(random.choice(actions),4) # 4: skip frame, see the result of making a shot quicker\n",
    "        print('reward:',reward)\n",
    "        time.sleep(0.02)\n",
    "    print('Result:',game.get_total_reward())\n",
    "    time.sleep(2)"
   ]
  },
  {
   "cell_type": "code",
   "execution_count": 7,
   "id": "9c7dc519",
   "metadata": {},
   "outputs": [],
   "source": [
    "game.close()"
   ]
  },
  {
   "cell_type": "markdown",
   "id": "055a6e60",
   "metadata": {},
   "source": [
    "# 2. Setup gym"
   ]
  },
  {
   "cell_type": "code",
   "execution_count": 8,
   "id": "388b310d",
   "metadata": {},
   "outputs": [],
   "source": [
    "from gym import Env, spaces\n",
    "import cv2"
   ]
  },
  {
   "cell_type": "code",
   "execution_count": 9,
   "id": "0e3beef6",
   "metadata": {},
   "outputs": [],
   "source": [
    "# Create Vizdoom openAI Gym Enviroment\n",
    "class VizDoomGym(Env):\n",
    "    def __init__(self, render=False, config='github/VizDoom/scenarios/deadly_corridor_s1.cfg'):\n",
    "        super().__init__()\n",
    "        self.game = DoomGame() # from vizdoom\n",
    "        self.game.load_config(config)\n",
    "        \n",
    "        if render == False:\n",
    "            self.game.set_window_visible(False)\n",
    "        else:\n",
    "            self.game.set_window_visible(True)\n",
    "            \n",
    "        self.game.init()\n",
    "        \n",
    "        self.observation_space = spaces.box.Box(low=0,high=255,shape=(100,160,1),dtype=np.uint8)\n",
    "        self.action_space = spaces.discrete.Discrete(7)\n",
    "        \n",
    "        # Game variables: HEALTH DAMAGE_TAKEN HITCOUNT SELECTED_WEAPON_AMMO\n",
    "        self.damage_taken = 0\n",
    "        self.hitcount = 0\n",
    "        self.ammo = 52\n",
    "        \n",
    "    def step(self, action):\n",
    "        # Specify action and take step\n",
    "        actions = np.identity(7, dtype=np.uint8)\n",
    "        movement_reward = self.game.make_action(actions[action],4) # skip frame = 4\n",
    "        \n",
    "        reward = 0\n",
    "        if self.game.get_state():\n",
    "            state = self.game.get_state().screen_buffer\n",
    "            state = self.grayscale(state)\n",
    "\n",
    "            # Reward shaping\n",
    "            game_variables = self.game.get_state().game_variables\n",
    "            health, damage_taken, hitcount, ammo = game_variables\n",
    "            \n",
    "            damage_taken_delta = -damage_taken + self.damage_taken # want this to go down\n",
    "            self.damage_taken = damage_taken\n",
    "            hitcount_delta = hitcount - self.hitcount # want this to go up\n",
    "            self.hitcount = hitcount \n",
    "            ammo_delta = ammo - self.ammo # disincentivize wasting ammo\n",
    "            self.ammo = ammo\n",
    "            \n",
    "            reward = movement_reward + damage_taken_delta*10 + hitcount_delta*200 + ammo_delta*5\n",
    "            \n",
    "            info = {\"health\":health, \"damage_taken\":damage_taken, \"hitcount\":hitcount,\"ammo\":ammo}\n",
    "        else:\n",
    "            state = np.zeros(self.observation_space.shape)\n",
    "            info = {\"health\":0, \"damage_taken\":0, \"hitcount\":0,\"ammo\":0}\n",
    "        \n",
    "        done = self.game.is_episode_finished()\n",
    "        \n",
    "        return state, reward, done, info\n",
    "    \n",
    "    def close(self):\n",
    "        self.game.close()\n",
    "        \n",
    "    def render():\n",
    "        pass\n",
    "    \n",
    "    def grayscale(self, observation):\n",
    "        # moveaxis(observation,0,-1) -> moves (3,240,320) to (240,320,3)\n",
    "        gray = cv2.cvtColor(np.moveaxis(observation,0,-1),cv2.COLOR_BGR2GRAY)\n",
    "        # make it smaller, scales it down\n",
    "        resize = cv2.resize(gray,(160,100),interpolation=cv2.INTER_CUBIC)\n",
    "        state = np.reshape(resize,(100,160,1))\n",
    "        return state\n",
    "    \n",
    "    def reset(self):\n",
    "        self.game.new_episode()\n",
    "        state = self.game.get_state().screen_buffer\n",
    "        return self.grayscale(state)"
   ]
  },
  {
   "cell_type": "code",
   "execution_count": 16,
   "id": "9514b5ae",
   "metadata": {},
   "outputs": [],
   "source": [
    "env = VizDoomGym(render=True)"
   ]
  },
  {
   "cell_type": "code",
   "execution_count": 11,
   "id": "2769a496",
   "metadata": {},
   "outputs": [
    {
     "data": {
      "text/plain": [
       "(100, 160, 1)"
      ]
     },
     "execution_count": 11,
     "metadata": {},
     "output_type": "execute_result"
    }
   ],
   "source": [
    "state = env.reset()\n",
    "state.shape"
   ]
  },
  {
   "cell_type": "code",
   "execution_count": 12,
   "id": "5949aaa8",
   "metadata": {},
   "outputs": [
    {
     "data": {
      "text/plain": [
       "<matplotlib.image.AxesImage at 0x15b7e8018a0>"
      ]
     },
     "execution_count": 12,
     "metadata": {},
     "output_type": "execute_result"
    },
    {
     "data": {
      "image/png": "[encoded data removed]",
      "text/plain": [
       "<Figure size 432x288 with 1 Axes>"
      ]
     },
     "metadata": {
      "needs_background": "light"
     },
     "output_type": "display_data"
    }
   ],
   "source": [
    "plt.imshow(cv2.cvtColor(state,cv2.COLOR_BGR2RGB))"
   ]
  },
  {
   "cell_type": "code",
   "execution_count": 13,
   "id": "8d2e13ab",
   "metadata": {},
   "outputs": [
    {
     "data": {
      "text/plain": [
       "(array([[[32],\n",
       "         [33],\n",
       "         [25],\n",
       "         ...,\n",
       "         [27],\n",
       "         [23],\n",
       "         [24]],\n",
       " \n",
       "        [[27],\n",
       "         [33],\n",
       "         [23],\n",
       "         ...,\n",
       "         [24],\n",
       "         [24],\n",
       "         [24]],\n",
       " \n",
       "        [[20],\n",
       "         [35],\n",
       "         [23],\n",
       "         ...,\n",
       "         [24],\n",
       "         [24],\n",
       "         [24]],\n",
       " \n",
       "        ...,\n",
       " \n",
       "        [[75],\n",
       "         [63],\n",
       "         [62],\n",
       "         ...,\n",
       "         [44],\n",
       "         [71],\n",
       "         [60]],\n",
       " \n",
       "        [[15],\n",
       "         [48],\n",
       "         [47],\n",
       "         ...,\n",
       "         [49],\n",
       "         [69],\n",
       "         [47]],\n",
       " \n",
       "        [[22],\n",
       "         [14],\n",
       "         [26],\n",
       "         ...,\n",
       "         [57],\n",
       "         [37],\n",
       "         [39]]], dtype=uint8),\n",
       " -40.0,\n",
       " False,\n",
       " {'health': 100.0, 'damage_taken': 0.0, 'hitcount': 0.0, 'ammo': 52.0})"
      ]
     },
     "execution_count": 13,
     "metadata": {},
     "output_type": "execute_result"
    }
   ],
   "source": [
    "env.step(2)"
   ]
  },
  {
   "cell_type": "code",
   "execution_count": 18,
   "id": "55b8ba37",
   "metadata": {},
   "outputs": [],
   "source": [
    "env.close()"
   ]
  },
  {
   "cell_type": "code",
   "execution_count": 15,
   "id": "c7a6638d",
   "metadata": {},
   "outputs": [],
   "source": [
    "# ENVIRONMENT Checker\n",
    "from stable_baselines3.common import env_checker"
   ]
  },
  {
   "cell_type": "code",
   "execution_count": 17,
   "id": "d45abbfd",
   "metadata": {},
   "outputs": [],
   "source": [
    "env_checker.check_env(env)"
   ]
  },
  {
   "cell_type": "markdown",
   "id": "347bf0e8",
   "metadata": {},
   "source": [
    "# 3. Setup Callback"
   ]
  },
  {
   "cell_type": "code",
   "execution_count": 19,
   "id": "9032d925",
   "metadata": {},
   "outputs": [],
   "source": [
    "import os\n",
    "from stable_baselines3.common.callbacks import BaseCallback"
   ]
  },
  {
   "cell_type": "code",
   "execution_count": 20,
   "id": "538f6e2d",
   "metadata": {},
   "outputs": [],
   "source": [
    "class TrainAndLoggingCallback(BaseCallback):\n",
    "    def __init__(self, check_freq, save_path, verbose=1):\n",
    "        super(TrainAndLoggingCallback, self).__init__(verbose)\n",
    "        self.check_freq = check_freq\n",
    "        self.save_path = save_path\n",
    "    \n",
    "    def _init_callback(self):\n",
    "        if self.save_path is not None:\n",
    "            os.makedirs(self.save_path, exist_ok=True)\n",
    "            \n",
    "    def _on_step(self):\n",
    "        if self.n_calls % self.check_freq == 0:\n",
    "            model_path = os.path.join(self.save_path, \"best_model_{}\".format(self.n_calls))\n",
    "            self.model.save(model_path)\n",
    "            \n",
    "        return True"
   ]
  },
  {
   "cell_type": "code",
   "execution_count": 21,
   "id": "92cdc177",
   "metadata": {},
   "outputs": [],
   "source": [
    "CHECKPOINT_DIR = './train/train_corridor'\n",
    "LOG_DIR = './logs/log_corridor'"
   ]
  },
  {
   "cell_type": "code",
   "execution_count": 22,
   "id": "b88a84e6",
   "metadata": {},
   "outputs": [],
   "source": [
    "callback = TrainAndLoggingCallback(check_freq=10000, save_path=CHECKPOINT_DIR)"
   ]
  },
  {
   "cell_type": "markdown",
   "id": "aba68703",
   "metadata": {},
   "source": [
    "# 4 Train Model Using Curriculum"
   ]
  },
  {
   "cell_type": "code",
   "execution_count": 23,
   "id": "cfda57fc",
   "metadata": {},
   "outputs": [],
   "source": [
    "from stable_baselines3 import PPO"
   ]
  },
  {
   "cell_type": "code",
   "execution_count": 24,
   "id": "97441b3e",
   "metadata": {},
   "outputs": [],
   "source": [
    "env = VizDoomGym(config='github/VizDoom/scenarios/deadly_corridor_s1.cfg')"
   ]
  },
  {
   "cell_type": "code",
   "execution_count": 26,
   "id": "cc0fb846",
   "metadata": {},
   "outputs": [
    {
     "name": "stdout",
     "output_type": "stream",
     "text": [
      "Using cuda device\n",
      "Wrapping the env with a `Monitor` wrapper\n",
      "Wrapping the env in a DummyVecEnv.\n",
      "Wrapping the env in a VecTransposeImage.\n"
     ]
    }
   ],
   "source": [
    "model = PPO('CnnPolicy',env,tensorboard_log=LOG_DIR,verbose=1,learning_rate=0.00001,n_steps=8192, clip_range=0.1, gamma=0.95, gae_lambda=0.9)"
   ]
  },
  {
   "cell_type": "code",
   "execution_count": null,
   "id": "9fee280c",
   "metadata": {},
   "outputs": [],
   "source": [
    "model.learn(total_timesteps=400000,callback=callback)"
   ]
  },
  {
   "cell_type": "code",
   "execution_count": 28,
   "id": "05899ee7",
   "metadata": {},
   "outputs": [],
   "source": [
    "env.close()"
   ]
  },
  {
   "cell_type": "code",
   "execution_count": null,
   "id": "6eeb142b",
   "metadata": {},
   "outputs": [],
   "source": [
    "env = VizDoomGym(config='github/VizDoom/scenarios/deadly_corridor_s2.cfg')\n",
    "model.set_env(env)\n",
    "model.learn(total_timesteps=40000,callback=callback)"
   ]
  },
  {
   "cell_type": "markdown",
   "id": "8498b228",
   "metadata": {},
   "source": [
    "# 6. Test the Model"
   ]
  },
  {
   "cell_type": "code",
   "execution_count": 29,
   "id": "5c60f35a",
   "metadata": {},
   "outputs": [],
   "source": [
    "from stable_baselines3.common.evaluation import evaluate_policy"
   ]
  },
  {
   "cell_type": "code",
   "execution_count": 30,
   "id": "7f165907",
   "metadata": {},
   "outputs": [],
   "source": [
    "model = PPO.load('./train/train_corridor/best_model_150000')"
   ]
  },
  {
   "cell_type": "code",
   "execution_count": 31,
   "id": "2cab3600",
   "metadata": {},
   "outputs": [],
   "source": [
    "env = VizDoomGym(render=True)"
   ]
  },
  {
   "cell_type": "code",
   "execution_count": 32,
   "id": "c76c0b91",
   "metadata": {},
   "outputs": [
    {
     "name": "stderr",
     "output_type": "stream",
     "text": [
      "C:\\Users\\ryanr\\AppData\\Local\\Programs\\Python\\Python310\\lib\\site-packages\\stable_baselines3\\common\\evaluation.py:65: UserWarning: Evaluation environment is not wrapped with a ``Monitor`` wrapper. This may result in reporting modified episode lengths and rewards, if other wrappers happen to modify these. Consider wrapping environment first with ``Monitor`` wrapper.\n",
      "  warnings.warn(\n"
     ]
    }
   ],
   "source": [
    "# Evaluate mean reward for 10 games\n",
    "mean_reward, _ = evaluate_policy(model, env, n_eval_episodes=10)"
   ]
  },
  {
   "cell_type": "code",
   "execution_count": null,
   "id": "4f14941f",
   "metadata": {},
   "outputs": [],
   "source": [
    "for episode in range(5):\n",
    "    obs = env.reset()\n",
    "    done = False\n",
    "    total_reward = 0\n",
    "    while not done:\n",
    "        action, _ = model.predict(obs)\n",
    "        obs, reward, done, info = env.step(action)\n",
    "        time.sleep(0.05)\n",
    "        total_reward += reward\n",
    "    print(f'Total Reward for episode {episode} is {total_reward}')\n",
    "    time.sleep(2)"
   ]
  },
  {
   "cell_type": "code",
   "execution_count": 35,
   "id": "5f4634c1",
   "metadata": {},
   "outputs": [],
   "source": [
    "env.close()"
   ]
  },
  {
   "cell_type": "code",
   "execution_count": null,
   "id": "3ce5e2f0",
   "metadata": {},
   "outputs": [],
   "source": []
  }
 ],
 "metadata": {
  "kernelspec": {
   "display_name": "Python 3 (ipykernel)",
   "language": "python",
   "name": "python3"
  },
  "language_info": {
   "codemirror_mode": {
    "name": "ipython",
    "version": 3
   },
   "file_extension": ".py",
   "mimetype": "text/x-python",
   "name": "python",
   "nbconvert_exporter": "python",
   "pygments_lexer": "ipython3",
   "version": "3.10.4"
  }
 },
 "nbformat": 4,
 "nbformat_minor": 5
}
