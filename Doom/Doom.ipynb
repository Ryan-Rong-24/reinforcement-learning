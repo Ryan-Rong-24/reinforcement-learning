{
 "cells": [
  {
   "cell_type": "markdown",
   "id": "63338503",
   "metadata": {},
   "source": [
    "# 1. Setup VizDoom"
   ]
  },
  {
   "cell_type": "code",
   "execution_count": 1,
   "id": "06ae1b81",
   "metadata": {},
   "outputs": [
    {
     "name": "stdout",
     "output_type": "stream",
     "text": [
      "Collecting vizdoom\n",
      "  Downloading vizdoom-1.1.13-cp310-cp310-win_amd64.whl (15.4 MB)\n",
      "     --------------------------------------- 15.4/15.4 MB 16.1 kB/s eta 0:00:00\n",
      "Requirement already satisfied: numpy in c:\\users\\ryanr\\appdata\\local\\programs\\python\\python310\\lib\\site-packages (from vizdoom) (1.22.3)\n",
      "Installing collected packages: vizdoom\n",
      "Successfully installed vizdoom-1.1.13\n",
      "\n",
      "[notice] A new release of pip available: 22.1.2 -> 22.2\n",
      "[notice] To update, run: python.exe -m pip install --upgrade pip\n"
     ]
    }
   ],
   "source": [
    "!pip install vizdoom"
   ]
  },
  {
   "cell_type": "code",
   "execution_count": null,
   "id": "8cee13f7",
   "metadata": {},
   "outputs": [],
   "source": [
    "!cd github & git clone https://github.com/mwydmuch/ViZDoom"
   ]
  },
  {
   "cell_type": "code",
   "execution_count": 63,
   "id": "ecd96f3f",
   "metadata": {},
   "outputs": [],
   "source": [
    "from vizdoom import *\n",
    "import random\n",
    "import time\n",
    "import numpy as np\n",
    "import matplotlib.pyplot as plt"
   ]
  },
  {
   "cell_type": "code",
   "execution_count": 9,
   "id": "5f5a8e69",
   "metadata": {},
   "outputs": [],
   "source": [
    "# Setup game\n",
    "game = DoomGame() # from vizdoom\n",
    "game.load_config('github/VizDoom/scenarios/basic.cfg')\n",
    "game.init()"
   ]
  },
  {
   "cell_type": "code",
   "execution_count": 134,
   "id": "d204d779",
   "metadata": {},
   "outputs": [],
   "source": [
    "# Set of actions we can take in the environment\n",
    "actions = np.identity(3,dtype=np.uint8) # move left, move right, attack"
   ]
  },
  {
   "cell_type": "code",
   "execution_count": 11,
   "id": "bcb050d8",
   "metadata": {},
   "outputs": [
    {
     "data": {
      "text/plain": [
       "array([1, 0, 0], dtype=uint8)"
      ]
     },
     "execution_count": 11,
     "metadata": {},
     "output_type": "execute_result"
    }
   ],
   "source": [
    "random.choice(actions)"
   ]
  },
  {
   "cell_type": "code",
   "execution_count": null,
   "id": "d94480ed",
   "metadata": {},
   "outputs": [],
   "source": [
    "episodes = 10\n",
    "for episode in range(episodes):\n",
    "    game.new_episode()\n",
    "    while not game.is_episode_finished():\n",
    "        state = game.get_state()\n",
    "        img = state.screen_buffer\n",
    "        info = state.game_variables # ammo\n",
    "        reward = game.make_action(random.choice(actions),4) # 4: skip frame, see the result of making a shot quicker\n",
    "        print('reward:',reward)\n",
    "        time.sleep(0.02)\n",
    "    print('Result:',game.get_total_reward())\n",
    "    time.sleep(2)"
   ]
  },
  {
   "cell_type": "code",
   "execution_count": 13,
   "id": "9c7dc519",
   "metadata": {},
   "outputs": [],
   "source": [
    "game.close()"
   ]
  },
  {
   "cell_type": "markdown",
   "id": "055a6e60",
   "metadata": {},
   "source": [
    "# 2. Setup gym"
   ]
  },
  {
   "cell_type": "code",
   "execution_count": 100,
   "id": "388b310d",
   "metadata": {},
   "outputs": [],
   "source": [
    "from gym import Env, spaces\n",
    "import cv2"
   ]
  },
  {
   "cell_type": "code",
   "execution_count": 114,
   "id": "0e3beef6",
   "metadata": {},
   "outputs": [],
   "source": [
    "# Create Vizdoom openAI Gym Enviroment\n",
    "class VizDoomGym(Env):\n",
    "    def __init__(self, render=False):\n",
    "        super().__init__()\n",
    "        self.game = DoomGame() # from vizdoom\n",
    "        self.game.load_config('github/VizDoom/scenarios/basic.cfg')\n",
    "        \n",
    "        if render == False:\n",
    "            self.game.set_window_visible(False)\n",
    "        else:\n",
    "            self.game.set_window_visible(True)\n",
    "            \n",
    "        self.game.init()\n",
    "        \n",
    "        self.observation_space = spaces.box.Box(low=0,high=255,shape=(100,160,1),dtype=np.uint8)\n",
    "        self.action_space = spaces.discrete.Discrete(3)\n",
    "        \n",
    "    def step(self, action):\n",
    "        # Specify action and take step\n",
    "        actions = np.identity(3, dtype=np.uint8)\n",
    "        reward = self.game.make_action(actions[action],4) # skip frame = 4\n",
    "        \n",
    "        if self.game.get_state():\n",
    "            state = self.game.get_state().screen_buffer\n",
    "            state = self.grayscale(state)\n",
    "            ammo  = self.game.get_state().game_variables[0]\n",
    "            info = {\"ammo\":ammo}\n",
    "        else:\n",
    "            state = np.zeros(self.observation_space.shape)\n",
    "            info = {\"ammo\":0}\n",
    "        \n",
    "        done = self.game.is_episode_finished()\n",
    "        \n",
    "        return state, reward, done, info\n",
    "    \n",
    "    def close(self):\n",
    "        self.game.close()\n",
    "        \n",
    "    def render():\n",
    "        pass\n",
    "    \n",
    "    def grayscale(self, observation):\n",
    "        # moveaxis(observation,0,-1) -> moves (3,240,320) to (240,320,3)\n",
    "        gray = cv2.cvtColor(np.moveaxis(observation,0,-1),cv2.COLOR_BGR2GRAY)\n",
    "        # make it smaller, scales it down\n",
    "        resize = cv2.resize(gray,(160,100),interpolation=cv2.INTER_CUBIC)\n",
    "        state = np.reshape(resize,(100,160,1))\n",
    "        return state\n",
    "    \n",
    "    def reset(self):\n",
    "        self.game.new_episode()\n",
    "        state = self.game.get_state().screen_buffer\n",
    "        return self.grayscale(state)"
   ]
  },
  {
   "cell_type": "code",
   "execution_count": 115,
   "id": "9514b5ae",
   "metadata": {},
   "outputs": [],
   "source": [
    "env = VizDoomGym(render=True)"
   ]
  },
  {
   "cell_type": "code",
   "execution_count": 75,
   "id": "e98695bc",
   "metadata": {},
   "outputs": [
    {
     "data": {
      "text/plain": [
       "(100, 160, 1)"
      ]
     },
     "execution_count": 75,
     "metadata": {},
     "output_type": "execute_result"
    }
   ],
   "source": [
    "state = env.reset()\n",
    "state.shape"
   ]
  },
  {
   "cell_type": "code",
   "execution_count": 72,
   "id": "5401e0ca",
   "metadata": {},
   "outputs": [
    {
     "data": {
      "text/plain": [
       "<matplotlib.image.AxesImage at 0x1da35e08760>"
      ]
     },
     "execution_count": 72,
     "metadata": {},
     "output_type": "execute_result"
    },
    {
     "data": {
      "image/png": "[encoded data removed]",
      "text/plain": [
       "<Figure size 432x288 with 1 Axes>"
      ]
     },
     "metadata": {
      "needs_background": "light"
     },
     "output_type": "display_data"
    }
   ],
   "source": [
    "plt.imshow(cv2.cvtColor(state,cv2.COLOR_BGR2RGB))"
   ]
  },
  {
   "cell_type": "code",
   "execution_count": 79,
   "id": "5fd67191",
   "metadata": {},
   "outputs": [
    {
     "data": {
      "text/plain": [
       "(array([[[55],\n",
       "         [50],\n",
       "         [59],\n",
       "         ...,\n",
       "         [57],\n",
       "         [57],\n",
       "         [66]],\n",
       " \n",
       "        [[68],\n",
       "         [65],\n",
       "         [65],\n",
       "         ...,\n",
       "         [56],\n",
       "         [67],\n",
       "         [72]],\n",
       " \n",
       "        [[49],\n",
       "         [79],\n",
       "         [66],\n",
       "         ...,\n",
       "         [79],\n",
       "         [51],\n",
       "         [29]],\n",
       " \n",
       "        ...,\n",
       " \n",
       "        [[75],\n",
       "         [63],\n",
       "         [62],\n",
       "         ...,\n",
       "         [44],\n",
       "         [71],\n",
       "         [60]],\n",
       " \n",
       "        [[15],\n",
       "         [48],\n",
       "         [47],\n",
       "         ...,\n",
       "         [49],\n",
       "         [69],\n",
       "         [47]],\n",
       " \n",
       "        [[22],\n",
       "         [14],\n",
       "         [26],\n",
       "         ...,\n",
       "         [57],\n",
       "         [37],\n",
       "         [39]]], dtype=uint8),\n",
       " -4.0,\n",
       " False,\n",
       " array([49.]))"
      ]
     },
     "execution_count": 79,
     "metadata": {},
     "output_type": "execute_result"
    }
   ],
   "source": [
    "env.step(2)"
   ]
  },
  {
   "cell_type": "code",
   "execution_count": 117,
   "id": "55b8ba37",
   "metadata": {},
   "outputs": [],
   "source": [
    "env.close()"
   ]
  },
  {
   "cell_type": "code",
   "execution_count": 85,
   "id": "8ed5b863",
   "metadata": {},
   "outputs": [],
   "source": [
    "# ENVIRONMENT Checker\n",
    "from stable_baselines3.common import env_checker"
   ]
  },
  {
   "cell_type": "code",
   "execution_count": 116,
   "id": "77cacd31",
   "metadata": {},
   "outputs": [],
   "source": [
    "env_checker.check_env(env)"
   ]
  },
  {
   "cell_type": "markdown",
   "id": "d31ee712",
   "metadata": {},
   "source": [
    "# 3. Setup Callback"
   ]
  },
  {
   "cell_type": "code",
   "execution_count": 81,
   "id": "58d6a7fa",
   "metadata": {},
   "outputs": [],
   "source": [
    "import os\n",
    "from stable_baselines3.common.callbacks import BaseCallback"
   ]
  },
  {
   "cell_type": "code",
   "execution_count": 82,
   "id": "dc121cca",
   "metadata": {},
   "outputs": [],
   "source": [
    "class TrainAndLoggingCallback(BaseCallback):\n",
    "    def __init__(self, check_freq, save_path, verbose=1):\n",
    "        super(TrainAndLoggingCallback, self).__init__(verbose)\n",
    "        self.check_freq = check_freq\n",
    "        self.save_path = save_path\n",
    "    \n",
    "    def _init_callback(self):\n",
    "        if self.save_path is not None:\n",
    "            os.makedirs(self.save_path, exist_ok=True)\n",
    "            \n",
    "    def _on_step(self):\n",
    "        if self.n_calls % self.check_freq == 0:\n",
    "            model_path = os.path.join(self.save_path, \"best_model_{}\".format(self.n_calls))\n",
    "            self.model.save(model_path)\n",
    "            \n",
    "        return True"
   ]
  },
  {
   "cell_type": "code",
   "execution_count": 83,
   "id": "4a4e86a6",
   "metadata": {},
   "outputs": [],
   "source": [
    "CHECKPOINT_DIR = './train/train_basic'\n",
    "LOG_DIR = './logs/log_basic'"
   ]
  },
  {
   "cell_type": "code",
   "execution_count": 121,
   "id": "9873df7b",
   "metadata": {},
   "outputs": [],
   "source": [
    "callback = TrainAndLoggingCallback(check_freq=10000, save_path=CHECKPOINT_DIR)"
   ]
  },
  {
   "cell_type": "markdown",
   "id": "c530e1fb",
   "metadata": {},
   "source": [
    "# 4 Train Model"
   ]
  },
  {
   "cell_type": "code",
   "execution_count": 105,
   "id": "457729f8",
   "metadata": {},
   "outputs": [],
   "source": [
    "from stable_baselines3 import PPO"
   ]
  },
  {
   "cell_type": "code",
   "execution_count": 123,
   "id": "5c830d7e",
   "metadata": {},
   "outputs": [],
   "source": [
    "env = VizDoomGym()"
   ]
  },
  {
   "cell_type": "code",
   "execution_count": 128,
   "id": "dea18c48",
   "metadata": {},
   "outputs": [
    {
     "name": "stdout",
     "output_type": "stream",
     "text": [
      "Using cuda device\n",
      "Wrapping the env with a `Monitor` wrapper\n",
      "Wrapping the env in a DummyVecEnv.\n",
      "Wrapping the env in a VecTransposeImage.\n"
     ]
    }
   ],
   "source": [
    "model = PPO('CnnPolicy',env,tensorboard_log=LOG_DIR,verbose=1,learning_rate=0.0001,n_steps=2048)"
   ]
  },
  {
   "cell_type": "code",
   "execution_count": null,
   "id": "478598cf",
   "metadata": {},
   "outputs": [],
   "source": [
    "model.learn(total_timesteps=100000,callback=callback)"
   ]
  },
  {
   "cell_type": "markdown",
   "id": "88d88423",
   "metadata": {},
   "source": [
    "# 6. Test the Model"
   ]
  },
  {
   "cell_type": "code",
   "execution_count": 126,
   "id": "f5fa06f3",
   "metadata": {},
   "outputs": [],
   "source": [
    "from stable_baselines3.common.evaluation import evaluate_policy"
   ]
  },
  {
   "cell_type": "code",
   "execution_count": 131,
   "id": "c815cae9",
   "metadata": {},
   "outputs": [],
   "source": [
    "model = PPO.load('./train/train_basic/best_model_100000')"
   ]
  },
  {
   "cell_type": "code",
   "execution_count": 132,
   "id": "21d3d79c",
   "metadata": {},
   "outputs": [],
   "source": [
    "env = VizDoomGym(render=True)"
   ]
  },
  {
   "cell_type": "code",
   "execution_count": null,
   "id": "a809ff75",
   "metadata": {},
   "outputs": [],
   "source": [
    "# Evaluate mean reward for 10 games\n",
    "mean_reward, _ = evaluate_policy(model, env, n_eval_episodes=10)"
   ]
  },
  {
   "cell_type": "code",
   "execution_count": 135,
   "id": "bf645648",
   "metadata": {},
   "outputs": [
    {
     "name": "stdout",
     "output_type": "stream",
     "text": [
      "Total Reward for episode 0 is 83.0\n",
      "Total Reward for episode 1 is 95.0\n",
      "Total Reward for episode 2 is 95.0\n",
      "Total Reward for episode 3 is 95.0\n",
      "Total Reward for episode 4 is 95.0\n"
     ]
    }
   ],
   "source": [
    "for episode in range(5):\n",
    "    obs = env.reset()\n",
    "    done = False\n",
    "    total_reward = 0\n",
    "    while not done:\n",
    "        action, _ = model.predict(obs)\n",
    "        obs, reward, done, info = env.step(action)\n",
    "        time.sleep(0.2)\n",
    "        total_reward += reward\n",
    "    print(f'Total Reward for episode {episode} is {total_reward}')\n",
    "    time.sleep(2)"
   ]
  },
  {
   "cell_type": "code",
   "execution_count": 136,
   "id": "9b2f0f0b",
   "metadata": {},
   "outputs": [],
   "source": [
    "env.close()"
   ]
  },
  {
   "cell_type": "code",
   "execution_count": null,
   "id": "efc04df1",
   "metadata": {},
   "outputs": [],
   "source": []
  }
 ],
 "metadata": {
  "kernelspec": {
   "display_name": "Python 3 (ipykernel)",
   "language": "python",
   "name": "python3"
  },
  "language_info": {
   "codemirror_mode": {
    "name": "ipython",
    "version": 3
   },
   "file_extension": ".py",
   "mimetype": "text/x-python",
   "name": "python",
   "nbconvert_exporter": "python",
   "pygments_lexer": "ipython3",
   "version": "3.10.4"
  }
 },
 "nbformat": 4,
 "nbformat_minor": 5
}
